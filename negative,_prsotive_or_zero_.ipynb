{
  "nbformat": 4,
  "nbformat_minor": 0,
  "metadata": {
    "colab": {
      "name": "negative, prsotive or zero .ipynb",
      "provenance": [],
      "authorship_tag": "ABX9TyOoxNs5F6zvZQRqagrIc+tx",
      "include_colab_link": true
    },
    "kernelspec": {
      "name": "python3",
      "display_name": "Python 3"
    },
    "language_info": {
      "name": "python"
    }
  },
  "cells": [
    {
      "cell_type": "markdown",
      "metadata": {
        "id": "view-in-github",
        "colab_type": "text"
      },
      "source": [
        "<a href=\"https://colab.research.google.com/github/ainamalieya/firstagain/blob/main/negative%2C_prsotive_or_zero_.ipynb\" target=\"_parent\"><img src=\"https://colab.research.google.com/assets/colab-badge.svg\" alt=\"Open In Colab\"/></a>"
      ]
    },
    {
      "cell_type": "code",
      "metadata": {
        "colab": {
          "base_uri": "https://localhost:8080/"
        },
        "id": "Rr6W1iEK4Vht",
        "outputId": "e8993c13-431f-4822-92be-5b4e8dd7f903"
      },
      "source": [
        "num = float(input(\"Enter a number: \"))\n",
        "if num > 0:\n",
        "   print(\"Positive number\")\n",
        "elif num == 0:\n",
        "   print(\"Zero\")\n",
        "else:\n",
        "   print(\"Negative number\")\n",
        "   "
      ],
      "execution_count": null,
      "outputs": [
        {
          "output_type": "stream",
          "text": [
            "Enter a number: 2\n",
            "Positive number\n"
          ],
          "name": "stdout"
        }
      ]
    },
    {
      "cell_type": "markdown",
      "metadata": {
        "id": "JoM0Eqs54ewx"
      },
      "source": [
        "this is to check wheater the number is negative, positive or zero "
      ]
    },
    {
      "cell_type": "markdown",
      "metadata": {
        "id": "3SCMpezL4sUI"
      },
      "source": [
        "# New section"
      ]
    }
  ]
}